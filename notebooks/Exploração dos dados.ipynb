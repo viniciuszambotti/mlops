{
 "cells": [
  {
   "cell_type": "code",
   "execution_count": 381,
   "id": "cf5815ee",
   "metadata": {},
   "outputs": [
    {
     "name": "stdout",
     "output_type": "stream",
     "text": [
      "Python 3.8.10\n"
     ]
    }
   ],
   "source": [
    "!python3 --version"
   ]
  },
  {
   "cell_type": "code",
   "execution_count": 382,
   "id": "4c2221ee",
   "metadata": {},
   "outputs": [],
   "source": [
    "import pandas as pd\n",
    "import numpy as np\n",
    "import seaborn as sns\n",
    "import matplotlib.pyplot as plt\n",
    "%matplotlib inline\n",
    "\n",
    "import pickle"
   ]
  },
  {
   "cell_type": "markdown",
   "id": "433980a0",
   "metadata": {},
   "source": [
    "Descrição dos dados:<br>\n",
    "- id (int) - Identificador único da carta no banco de dados do jogo<br>\n",
    "- name (str) - Nome da carta<br>\n",
    "- mana (int) - Custo de mana para colocar a carta na mesa<br>\n",
    "- attack (int) - Dano que a carta causa ao oponente<br>\n",
    "- health (int) - Resistência ao dano ou durabilidade da carta<br>\n",
    "- type (str) - ['spell','creature','weapon','god power']<br>\n",
    "- god (str) - ['death','neutral','deception','nature','light','war','magic']<br>\n",
    "- strategy (str) - Estágio do jogo ['early','late']"
   ]
  },
  {
   "cell_type": "code",
   "execution_count": 383,
   "id": "6594c0a8",
   "metadata": {},
   "outputs": [
    {
     "data": {
      "text/html": [
       "<div>\n",
       "<style scoped>\n",
       "    .dataframe tbody tr th:only-of-type {\n",
       "        vertical-align: middle;\n",
       "    }\n",
       "\n",
       "    .dataframe tbody tr th {\n",
       "        vertical-align: top;\n",
       "    }\n",
       "\n",
       "    .dataframe thead th {\n",
       "        text-align: right;\n",
       "    }\n",
       "</style>\n",
       "<table border=\"1\" class=\"dataframe\">\n",
       "  <thead>\n",
       "    <tr style=\"text-align: right;\">\n",
       "      <th></th>\n",
       "      <th>id</th>\n",
       "      <th>name</th>\n",
       "      <th>mana</th>\n",
       "      <th>attack</th>\n",
       "      <th>health</th>\n",
       "      <th>type</th>\n",
       "      <th>god</th>\n",
       "      <th>strategy</th>\n",
       "    </tr>\n",
       "  </thead>\n",
       "  <tbody>\n",
       "    <tr>\n",
       "      <th>0</th>\n",
       "      <td>1118</td>\n",
       "      <td>Firewine</td>\n",
       "      <td>5</td>\n",
       "      <td>0</td>\n",
       "      <td>0</td>\n",
       "      <td>spell</td>\n",
       "      <td>nature</td>\n",
       "      <td>early</td>\n",
       "    </tr>\n",
       "    <tr>\n",
       "      <th>1</th>\n",
       "      <td>1036</td>\n",
       "      <td>Leyhoard Hatchling</td>\n",
       "      <td>10</td>\n",
       "      <td>2</td>\n",
       "      <td>1</td>\n",
       "      <td>creature</td>\n",
       "      <td>magic</td>\n",
       "      <td>late</td>\n",
       "    </tr>\n",
       "    <tr>\n",
       "      <th>2</th>\n",
       "      <td>244</td>\n",
       "      <td>Aetherfuel Alchemist</td>\n",
       "      <td>6</td>\n",
       "      <td>4</td>\n",
       "      <td>4</td>\n",
       "      <td>creature</td>\n",
       "      <td>neutral</td>\n",
       "      <td>late</td>\n",
       "    </tr>\n",
       "    <tr>\n",
       "      <th>3</th>\n",
       "      <td>215</td>\n",
       "      <td>Millenium Matryoshka</td>\n",
       "      <td>4</td>\n",
       "      <td>2</td>\n",
       "      <td>2</td>\n",
       "      <td>creature</td>\n",
       "      <td>neutral</td>\n",
       "      <td>late</td>\n",
       "    </tr>\n",
       "    <tr>\n",
       "      <th>4</th>\n",
       "      <td>87013</td>\n",
       "      <td>Poison Peddler</td>\n",
       "      <td>4</td>\n",
       "      <td>1</td>\n",
       "      <td>3</td>\n",
       "      <td>creature</td>\n",
       "      <td>neutral</td>\n",
       "      <td>late</td>\n",
       "    </tr>\n",
       "  </tbody>\n",
       "</table>\n",
       "</div>"
      ],
      "text/plain": [
       "      id                  name  mana  attack  health      type      god  \\\n",
       "0   1118              Firewine     5       0       0     spell   nature   \n",
       "1   1036    Leyhoard Hatchling    10       2       1  creature    magic   \n",
       "2    244  Aetherfuel Alchemist     6       4       4  creature  neutral   \n",
       "3    215  Millenium Matryoshka     4       2       2  creature  neutral   \n",
       "4  87013        Poison Peddler     4       1       3  creature  neutral   \n",
       "\n",
       "  strategy  \n",
       "0    early  \n",
       "1     late  \n",
       "2     late  \n",
       "3     late  \n",
       "4     late  "
      ]
     },
     "execution_count": 383,
     "metadata": {},
     "output_type": "execute_result"
    }
   ],
   "source": [
    "df = pd.read_csv('../data/train.csv')\n",
    "df.head()"
   ]
  },
  {
   "cell_type": "code",
   "execution_count": 384,
   "id": "67184520",
   "metadata": {},
   "outputs": [
    {
     "data": {
      "text/html": [
       "<div>\n",
       "<style scoped>\n",
       "    .dataframe tbody tr th:only-of-type {\n",
       "        vertical-align: middle;\n",
       "    }\n",
       "\n",
       "    .dataframe tbody tr th {\n",
       "        vertical-align: top;\n",
       "    }\n",
       "\n",
       "    .dataframe thead th {\n",
       "        text-align: right;\n",
       "    }\n",
       "</style>\n",
       "<table border=\"1\" class=\"dataframe\">\n",
       "  <thead>\n",
       "    <tr style=\"text-align: right;\">\n",
       "      <th></th>\n",
       "      <th>id</th>\n",
       "      <th>mana</th>\n",
       "      <th>attack</th>\n",
       "      <th>health</th>\n",
       "    </tr>\n",
       "  </thead>\n",
       "  <tbody>\n",
       "    <tr>\n",
       "      <th>count</th>\n",
       "      <td>788.000000</td>\n",
       "      <td>788.000000</td>\n",
       "      <td>788.000000</td>\n",
       "      <td>788.000000</td>\n",
       "    </tr>\n",
       "    <tr>\n",
       "      <th>mean</th>\n",
       "      <td>18138.823604</td>\n",
       "      <td>3.572335</td>\n",
       "      <td>2.140863</td>\n",
       "      <td>2.583756</td>\n",
       "    </tr>\n",
       "    <tr>\n",
       "      <th>std</th>\n",
       "      <td>36607.267608</td>\n",
       "      <td>2.190100</td>\n",
       "      <td>2.215047</td>\n",
       "      <td>2.455053</td>\n",
       "    </tr>\n",
       "    <tr>\n",
       "      <th>min</th>\n",
       "      <td>1.000000</td>\n",
       "      <td>0.000000</td>\n",
       "      <td>0.000000</td>\n",
       "      <td>0.000000</td>\n",
       "    </tr>\n",
       "    <tr>\n",
       "      <th>25%</th>\n",
       "      <td>256.500000</td>\n",
       "      <td>2.000000</td>\n",
       "      <td>0.000000</td>\n",
       "      <td>0.000000</td>\n",
       "    </tr>\n",
       "    <tr>\n",
       "      <th>50%</th>\n",
       "      <td>902.000000</td>\n",
       "      <td>3.000000</td>\n",
       "      <td>2.000000</td>\n",
       "      <td>2.000000</td>\n",
       "    </tr>\n",
       "    <tr>\n",
       "      <th>75%</th>\n",
       "      <td>1196.250000</td>\n",
       "      <td>5.000000</td>\n",
       "      <td>3.000000</td>\n",
       "      <td>4.000000</td>\n",
       "    </tr>\n",
       "    <tr>\n",
       "      <th>max</th>\n",
       "      <td>100920.000000</td>\n",
       "      <td>16.000000</td>\n",
       "      <td>13.000000</td>\n",
       "      <td>17.000000</td>\n",
       "    </tr>\n",
       "  </tbody>\n",
       "</table>\n",
       "</div>"
      ],
      "text/plain": [
       "                  id        mana      attack      health\n",
       "count     788.000000  788.000000  788.000000  788.000000\n",
       "mean    18138.823604    3.572335    2.140863    2.583756\n",
       "std     36607.267608    2.190100    2.215047    2.455053\n",
       "min         1.000000    0.000000    0.000000    0.000000\n",
       "25%       256.500000    2.000000    0.000000    0.000000\n",
       "50%       902.000000    3.000000    2.000000    2.000000\n",
       "75%      1196.250000    5.000000    3.000000    4.000000\n",
       "max    100920.000000   16.000000   13.000000   17.000000"
      ]
     },
     "execution_count": 384,
     "metadata": {},
     "output_type": "execute_result"
    }
   ],
   "source": [
    "df.describe()"
   ]
  },
  {
   "cell_type": "code",
   "execution_count": 385,
   "id": "db9e8d7c",
   "metadata": {},
   "outputs": [
    {
     "data": {
      "text/plain": [
       "id          0\n",
       "name        0\n",
       "mana        0\n",
       "attack      0\n",
       "health      0\n",
       "type        0\n",
       "god         0\n",
       "strategy    0\n",
       "dtype: int64"
      ]
     },
     "execution_count": 385,
     "metadata": {},
     "output_type": "execute_result"
    }
   ],
   "source": [
    "# Verificando a existência de valores nulos\n",
    "\n",
    "df.isnull().sum()"
   ]
  },
  {
   "cell_type": "markdown",
   "id": "c06e79e3",
   "metadata": {},
   "source": [
    " "
   ]
  },
  {
   "cell_type": "markdown",
   "id": "bb7648f6",
   "metadata": {},
   "source": [
    " "
   ]
  },
  {
   "cell_type": "markdown",
   "id": "250e4e49",
   "metadata": {},
   "source": [
    "## Entendendo a distribuição dos dados"
   ]
  },
  {
   "cell_type": "code",
   "execution_count": 386,
   "id": "f86d2471",
   "metadata": {},
   "outputs": [
    {
     "data": {
      "text/plain": [
       "<seaborn.axisgrid.FacetGrid at 0x7f49d8afde80>"
      ]
     },
     "execution_count": 386,
     "metadata": {},
     "output_type": "execute_result"
    },
    {
     "data": {
      "image/png": "[encoded data removed]",
      "text/plain": [
       "<Figure size 360x360 with 1 Axes>"
      ]
     },
     "metadata": {
      "needs_background": "light"
     },
     "output_type": "display_data"
    }
   ],
   "source": [
    "sns.displot(data=df, x=\"mana\", kind=\"kde\")"
   ]
  },
  {
   "cell_type": "code",
   "execution_count": 387,
   "id": "09955f96",
   "metadata": {},
   "outputs": [
    {
     "data": {
      "text/plain": [
       "<seaborn.axisgrid.FacetGrid at 0x7f49d88a7370>"
      ]
     },
     "execution_count": 387,
     "metadata": {},
     "output_type": "execute_result"
    },
    {
     "data": {
      "image/png": "[encoded data removed]",
      "text/plain": [
       "<Figure size 360x360 with 1 Axes>"
      ]
     },
     "metadata": {
      "needs_background": "light"
     },
     "output_type": "display_data"
    }
   ],
   "source": [
    "sns.displot(data=df, x=\"attack\", kind=\"kde\")"
   ]
  },
  {
   "cell_type": "code",
   "execution_count": 388,
   "id": "99c45837",
   "metadata": {},
   "outputs": [
    {
     "data": {
      "text/plain": [
       "<seaborn.axisgrid.FacetGrid at 0x7f49d89f08b0>"
      ]
     },
     "execution_count": 388,
     "metadata": {},
     "output_type": "execute_result"
    },
    {
     "data": {
      "image/png": "[encoded data removed]",
      "text/plain": [
       "<Figure size 360x360 with 1 Axes>"
      ]
     },
     "metadata": {
      "needs_background": "light"
     },
     "output_type": "display_data"
    }
   ],
   "source": [
    "sns.displot(data=df, x=\"health\", kind=\"kde\")"
   ]
  },
  {
   "cell_type": "code",
   "execution_count": 389,
   "id": "9b63c905",
   "metadata": {},
   "outputs": [
    {
     "data": {
      "text/plain": [
       "<seaborn.axisgrid.FacetGrid at 0x7f49d8c1dbe0>"
      ]
     },
     "execution_count": 389,
     "metadata": {},
     "output_type": "execute_result"
    },
    {
     "data": {
      "image/png": "[encoded data removed]",
      "text/plain": [
       "<Figure size 360x360 with 1 Axes>"
      ]
     },
     "metadata": {
      "needs_background": "light"
     },
     "output_type": "display_data"
    }
   ],
   "source": [
    "sns.displot(data=df, x=\"type\")"
   ]
  },
  {
   "cell_type": "code",
   "execution_count": 390,
   "id": "b5cc3b7a",
   "metadata": {},
   "outputs": [
    {
     "data": {
      "text/plain": [
       "<seaborn.axisgrid.FacetGrid at 0x7f49d8c106a0>"
      ]
     },
     "execution_count": 390,
     "metadata": {},
     "output_type": "execute_result"
    },
    {
     "data": {
      "image/png": "[encoded data removed]",
      "text/plain": [
       "<Figure size 360x360 with 1 Axes>"
      ]
     },
     "metadata": {
      "needs_background": "light"
     },
     "output_type": "display_data"
    }
   ],
   "source": [
    "sns.displot(data=df, x=\"god\")"
   ]
  },
  {
   "cell_type": "code",
   "execution_count": 391,
   "id": "dc315deb",
   "metadata": {},
   "outputs": [
    {
     "data": {
      "text/plain": [
       "<seaborn.axisgrid.FacetGrid at 0x7f49b35cce50>"
      ]
     },
     "execution_count": 391,
     "metadata": {},
     "output_type": "execute_result"
    },
    {
     "data": {
      "image/png": "[encoded data removed]",
      "text/plain": [
       "<Figure size 360x360 with 1 Axes>"
      ]
     },
     "metadata": {
      "needs_background": "light"
     },
     "output_type": "display_data"
    }
   ],
   "source": [
    "sns.displot(data=df, x=\"strategy\")"
   ]
  },
  {
   "cell_type": "markdown",
   "id": "b3bf5857",
   "metadata": {},
   "source": [
    " "
   ]
  },
  {
   "cell_type": "markdown",
   "id": "7fe4b642",
   "metadata": {},
   "source": [
    "  "
   ]
  },
  {
   "cell_type": "markdown",
   "id": "ebc36d5f",
   "metadata": {},
   "source": [
    "## Entendendo a diferença entre as classes e possíveis outliers"
   ]
  },
  {
   "cell_type": "code",
   "execution_count": 392,
   "id": "b1f402c7",
   "metadata": {},
   "outputs": [
    {
     "data": {
      "image/png": "[encoded data removed]",
      "text/plain": [
       "<Figure size 432x288 with 1 Axes>"
      ]
     },
     "metadata": {
      "needs_background": "light"
     },
     "output_type": "display_data"
    }
   ],
   "source": [
    "ax = sns.boxplot(x=\"strategy\", y=\"mana\", data=df)"
   ]
  },
  {
   "cell_type": "code",
   "execution_count": 393,
   "id": "d28f13ac",
   "metadata": {},
   "outputs": [
    {
     "data": {
      "image/png": "[encoded data removed]",
      "text/plain": [
       "<Figure size 432x288 with 1 Axes>"
      ]
     },
     "metadata": {
      "needs_background": "light"
     },
     "output_type": "display_data"
    }
   ],
   "source": [
    "ax = sns.boxplot(x=\"strategy\", y=\"attack\", data=df)"
   ]
  },
  {
   "cell_type": "code",
   "execution_count": 394,
   "id": "7415d2fb",
   "metadata": {},
   "outputs": [
    {
     "data": {
      "image/png": "[encoded data removed]",
      "text/plain": [
       "<Figure size 432x288 with 1 Axes>"
      ]
     },
     "metadata": {
      "needs_background": "light"
     },
     "output_type": "display_data"
    }
   ],
   "source": [
    "ax = sns.boxplot(x=\"strategy\", y=\"health\", data=df)"
   ]
  },
  {
   "cell_type": "code",
   "execution_count": 395,
   "id": "82fb4074",
   "metadata": {},
   "outputs": [
    {
     "data": {
      "text/plain": [
       "<AxesSubplot:xlabel='type', ylabel='count'>"
      ]
     },
     "execution_count": 395,
     "metadata": {},
     "output_type": "execute_result"
    },
    {
     "data": {
      "image/png": "[encoded data removed]",
      "text/plain": [
       "<Figure size 432x288 with 1 Axes>"
      ]
     },
     "metadata": {
      "needs_background": "light"
     },
     "output_type": "display_data"
    }
   ],
   "source": [
    "sns.countplot(x=\"type\", hue=\"strategy\", data=df)"
   ]
  },
  {
   "cell_type": "code",
   "execution_count": 396,
   "id": "0ddf2a5d",
   "metadata": {},
   "outputs": [
    {
     "data": {
      "text/plain": [
       "<AxesSubplot:xlabel='god', ylabel='count'>"
      ]
     },
     "execution_count": 396,
     "metadata": {},
     "output_type": "execute_result"
    },
    {
     "data": {
      "image/png": "[encoded data removed]",
      "text/plain": [
       "<Figure size 432x288 with 1 Axes>"
      ]
     },
     "metadata": {
      "needs_background": "light"
     },
     "output_type": "display_data"
    }
   ],
   "source": [
    "sns.countplot(x=\"god\", hue=\"strategy\", data=df)"
   ]
  },
  {
   "cell_type": "markdown",
   "id": "4ed91bdd",
   "metadata": {
    "jp-MarkdownHeadingCollapsed": true,
    "tags": []
   },
   "source": [
    "### Considerações\n",
    " * Olhando as variáveis numéricas, foi possível ver que o early game possui valores menores que o late, além <br> \n",
    "   de ambos possuírem alguns outliers. <br><br>\n",
    "   \n",
    " * Nas variáveis categóricas, algumas se destacam, como o valores 'spell' ou 'god power' da feature 'strategy', mas no geral existe uma sutil diferença entre as classes."
   ]
  },
  {
   "cell_type": "markdown",
   "id": "5667c74e",
   "metadata": {},
   "source": [
    " "
   ]
  },
  {
   "cell_type": "markdown",
   "id": "2651abd5",
   "metadata": {},
   "source": [
    " "
   ]
  },
  {
   "cell_type": "markdown",
   "id": "98cbf940",
   "metadata": {},
   "source": [
    "## Remoção de outliers utilizando Interquartile range (IQR)\n",
    "\n",
    "IQR é uma técnica estatistica para remoção de outliers, retirando assim valores abaixo do primeiro quartil (Q1–1.5 * IQR)<br>\n",
    "e maiores que o terceiro (Q3+1.5 * IQR)<br>\n",
    "\n",
    "![TItle](images/IQR.png)\n"
   ]
  },
  {
   "cell_type": "code",
   "execution_count": 397,
   "id": "8eeeb003",
   "metadata": {},
   "outputs": [],
   "source": [
    "def remove_outlier_IQR(category, column):\n",
    "    df_iqr = df.query(\"strategy == @category\")\n",
    "    \n",
    "    Q1 = df_iqr[column].quantile(0.25)\n",
    "    Q3 = df_iqr[column].quantile(0.75)\n",
    "    IQR = Q3-Q1\n",
    "    \n",
    "    idx = df_iqr[(df_iqr[column] < (Q1 - 1.5 * IQR)) | \n",
    "              (df_iqr[column] > (Q3 + 1.5 * IQR))\n",
    "             ].index\n",
    "    \n",
    "    df.drop(idx, inplace=True)"
   ]
  },
  {
   "cell_type": "code",
   "execution_count": 398,
   "id": "89c067b5-53e9-4afa-a85f-1e1744b8eadb",
   "metadata": {},
   "outputs": [],
   "source": [
    "remove_outlier_IQR(\"early\", \"mana\")\n",
    "remove_outlier_IQR(\"late\", \"mana\")\n",
    "\n",
    "remove_outlier_IQR(\"early\", \"attack\")\n",
    "remove_outlier_IQR(\"late\", \"attack\")\n",
    "\n",
    "remove_outlier_IQR(\"early\", \"health\")\n",
    "remove_outlier_IQR(\"late\", \"health\")"
   ]
  },
  {
   "cell_type": "code",
   "execution_count": 399,
   "id": "b4c6ac76-834b-46fe-90ed-ae793ac6f4f5",
   "metadata": {},
   "outputs": [
    {
     "data": {
      "image/png": "[encoded data removed]",
      "text/plain": [
       "<Figure size 432x288 with 1 Axes>"
      ]
     },
     "metadata": {
      "needs_background": "light"
     },
     "output_type": "display_data"
    }
   ],
   "source": [
    "ax = sns.boxplot(x=\"strategy\", y=\"mana\", data=df)"
   ]
  },
  {
   "cell_type": "code",
   "execution_count": 400,
   "id": "97978dc3-ee7c-434f-866a-4d11e12c6601",
   "metadata": {},
   "outputs": [
    {
     "data": {
      "image/png": "[encoded data removed]",
      "text/plain": [
       "<Figure size 432x288 with 1 Axes>"
      ]
     },
     "metadata": {
      "needs_background": "light"
     },
     "output_type": "display_data"
    }
   ],
   "source": [
    "ax = sns.boxplot(x=\"strategy\", y=\"attack\", data=df)"
   ]
  },
  {
   "cell_type": "code",
   "execution_count": 401,
   "id": "801345ba-8354-4a28-b8fe-5ea6b40af570",
   "metadata": {},
   "outputs": [
    {
     "data": {
      "image/png": "[encoded data removed]",
      "text/plain": [
       "<Figure size 432x288 with 1 Axes>"
      ]
     },
     "metadata": {
      "needs_background": "light"
     },
     "output_type": "display_data"
    }
   ],
   "source": [
    "ax = sns.boxplot(x=\"strategy\", y=\"health\", data=df)"
   ]
  },
  {
   "cell_type": "markdown",
   "id": "4b635260-89cd-4162-84c2-cda452972a24",
   "metadata": {},
   "source": [
    " "
   ]
  },
  {
   "cell_type": "markdown",
   "id": "74a9830a-cde5-4290-988e-dca5e85feea1",
   "metadata": {},
   "source": [
    " "
   ]
  },
  {
   "cell_type": "markdown",
   "id": "ffaec8d1-ffe8-44b3-9f93-828978083792",
   "metadata": {},
   "source": [
    "## Correlações"
   ]
  },
  {
   "cell_type": "code",
   "execution_count": 402,
   "id": "db588ee7-648a-4e52-9de3-c684b8eff93f",
   "metadata": {},
   "outputs": [],
   "source": [
    "# Transforma variaveis string em categórica\n",
    "df[['strategy','god','type']] = df[['strategy','god','type']].astype(\"category\")\n",
    "\n",
    "df['cat_strategy'] = df['strategy'].cat.codes\n",
    "df['cat_god'] = df['god'].cat.codes\n",
    "df['cat_type'] = df['type'].cat.codes"
   ]
  },
  {
   "cell_type": "code",
   "execution_count": 403,
   "id": "958c72ac-7ae3-4cbf-8237-200442b315da",
   "metadata": {},
   "outputs": [
    {
     "data": {
      "text/html": [
       "<div>\n",
       "<style scoped>\n",
       "    .dataframe tbody tr th:only-of-type {\n",
       "        vertical-align: middle;\n",
       "    }\n",
       "\n",
       "    .dataframe tbody tr th {\n",
       "        vertical-align: top;\n",
       "    }\n",
       "\n",
       "    .dataframe thead th {\n",
       "        text-align: right;\n",
       "    }\n",
       "</style>\n",
       "<table border=\"1\" class=\"dataframe\">\n",
       "  <thead>\n",
       "    <tr style=\"text-align: right;\">\n",
       "      <th></th>\n",
       "      <th>id</th>\n",
       "      <th>name</th>\n",
       "      <th>mana</th>\n",
       "      <th>attack</th>\n",
       "      <th>health</th>\n",
       "      <th>type</th>\n",
       "      <th>god</th>\n",
       "      <th>strategy</th>\n",
       "      <th>cat_strategy</th>\n",
       "      <th>cat_god</th>\n",
       "      <th>cat_type</th>\n",
       "    </tr>\n",
       "  </thead>\n",
       "  <tbody>\n",
       "    <tr>\n",
       "      <th>0</th>\n",
       "      <td>1118</td>\n",
       "      <td>Firewine</td>\n",
       "      <td>5</td>\n",
       "      <td>0</td>\n",
       "      <td>0</td>\n",
       "      <td>spell</td>\n",
       "      <td>nature</td>\n",
       "      <td>early</td>\n",
       "      <td>0</td>\n",
       "      <td>4</td>\n",
       "      <td>2</td>\n",
       "    </tr>\n",
       "    <tr>\n",
       "      <th>2</th>\n",
       "      <td>244</td>\n",
       "      <td>Aetherfuel Alchemist</td>\n",
       "      <td>6</td>\n",
       "      <td>4</td>\n",
       "      <td>4</td>\n",
       "      <td>creature</td>\n",
       "      <td>neutral</td>\n",
       "      <td>late</td>\n",
       "      <td>1</td>\n",
       "      <td>5</td>\n",
       "      <td>0</td>\n",
       "    </tr>\n",
       "    <tr>\n",
       "      <th>3</th>\n",
       "      <td>215</td>\n",
       "      <td>Millenium Matryoshka</td>\n",
       "      <td>4</td>\n",
       "      <td>2</td>\n",
       "      <td>2</td>\n",
       "      <td>creature</td>\n",
       "      <td>neutral</td>\n",
       "      <td>late</td>\n",
       "      <td>1</td>\n",
       "      <td>5</td>\n",
       "      <td>0</td>\n",
       "    </tr>\n",
       "    <tr>\n",
       "      <th>4</th>\n",
       "      <td>87013</td>\n",
       "      <td>Poison Peddler</td>\n",
       "      <td>4</td>\n",
       "      <td>1</td>\n",
       "      <td>3</td>\n",
       "      <td>creature</td>\n",
       "      <td>neutral</td>\n",
       "      <td>late</td>\n",
       "      <td>1</td>\n",
       "      <td>5</td>\n",
       "      <td>0</td>\n",
       "    </tr>\n",
       "    <tr>\n",
       "      <th>5</th>\n",
       "      <td>230</td>\n",
       "      <td>Canopic Hoarder</td>\n",
       "      <td>5</td>\n",
       "      <td>2</td>\n",
       "      <td>1</td>\n",
       "      <td>creature</td>\n",
       "      <td>death</td>\n",
       "      <td>late</td>\n",
       "      <td>1</td>\n",
       "      <td>0</td>\n",
       "      <td>0</td>\n",
       "    </tr>\n",
       "  </tbody>\n",
       "</table>\n",
       "</div>"
      ],
      "text/plain": [
       "      id                  name  mana  attack  health      type      god  \\\n",
       "0   1118              Firewine     5       0       0     spell   nature   \n",
       "2    244  Aetherfuel Alchemist     6       4       4  creature  neutral   \n",
       "3    215  Millenium Matryoshka     4       2       2  creature  neutral   \n",
       "4  87013        Poison Peddler     4       1       3  creature  neutral   \n",
       "5    230       Canopic Hoarder     5       2       1  creature    death   \n",
       "\n",
       "  strategy  cat_strategy  cat_god  cat_type  \n",
       "0    early             0        4         2  \n",
       "2     late             1        5         0  \n",
       "3     late             1        5         0  \n",
       "4     late             1        5         0  \n",
       "5     late             1        0         0  "
      ]
     },
     "execution_count": 403,
     "metadata": {},
     "output_type": "execute_result"
    }
   ],
   "source": [
    "df.head()"
   ]
  },
  {
   "cell_type": "code",
   "execution_count": 404,
   "id": "934acd82-70dd-4442-b858-df19837a7312",
   "metadata": {},
   "outputs": [
    {
     "data": {
      "text/plain": [
       "cat_strategy    1.000000\n",
       "attack          0.739174\n",
       "health          0.723954\n",
       "mana            0.655101\n",
       "cat_god         0.176740\n",
       "cat_type       -0.490034\n",
       "dtype: float64"
      ]
     },
     "execution_count": 404,
     "metadata": {},
     "output_type": "execute_result"
    }
   ],
   "source": [
    "feature_columns = ['cat_strategy', 'cat_god', 'cat_type', 'mana', 'attack', 'health']\n",
    "df[feature_columns].corrwith(df['cat_strategy']).sort_values(ascending=False)"
   ]
  },
  {
   "cell_type": "code",
   "execution_count": 405,
   "id": "83fa67d6-1f92-42c0-83b6-4194312e3fe7",
   "metadata": {},
   "outputs": [
    {
     "data": {
      "text/plain": [
       "<AxesSubplot:>"
      ]
     },
     "execution_count": 405,
     "metadata": {},
     "output_type": "execute_result"
    },
    {
     "data": {
      "image/png": "[encoded data removed]",
      "text/plain": [
       "<Figure size 792x648 with 2 Axes>"
      ]
     },
     "metadata": {
      "needs_background": "light"
     },
     "output_type": "display_data"
    }
   ],
   "source": [
    "# Matriz de correlação\n",
    "corr = df.corr()\n",
    "\n",
    "# Cria gráfico\n",
    "mask = np.triu(np.ones_like(corr, dtype=bool))\n",
    "f, ax = plt.subplots(figsize=(11, 9))\n",
    "cmap = sns.diverging_palette(230, 20, as_cmap=True)\n",
    "sns.heatmap(corr, mask=mask, cmap=cmap, vmax=.3, center=0,\n",
    "            square=True, linewidths=.5, cbar_kws={\"shrink\": .5})"
   ]
  },
  {
   "cell_type": "code",
   "execution_count": 406,
   "id": "1f3fe3eb-7469-44f4-a851-e63eb93a24c0",
   "metadata": {},
   "outputs": [],
   "source": [
    "with open('../data/data_prep.pkl', 'wb') as handle:\n",
    "    pickle.dump(df, handle, protocol=pickle.HIGHEST_PROTOCOL)"
   ]
  }
 ],
 "metadata": {
  "kernelspec": {
   "display_name": "Python 3 (ipykernel)",
   "language": "python",
   "name": "python3"
  },
  "language_info": {
   "codemirror_mode": {
    "name": "ipython",
    "version": 3
   },
   "file_extension": ".py",
   "mimetype": "text/x-python",
   "name": "python",
   "nbconvert_exporter": "python",
   "pygments_lexer": "ipython3",
   "version": "3.8.10"
  }
 },
 "nbformat": 4,
 "nbformat_minor": 5
}
